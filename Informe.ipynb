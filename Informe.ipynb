{
 "cells": [
  {
   "cell_type": "code",
   "execution_count": 38,
   "metadata": {},
   "outputs": [],
   "source": [
    "#Librerias\n",
    "import pandas as pd\n",
    "import matplotlib.pyplot as plt\n",
    "import seaborn as sns\n",
    "import numpy as np"
   ]
  },
  {
   "cell_type": "markdown",
   "metadata": {},
   "source": [
    "# **INFORME SITUACION INICIAL**"
   ]
  },
  {
   "cell_type": "code",
   "execution_count": 39,
   "metadata": {},
   "outputs": [],
   "source": [
    "#Carga de datos\n",
    "cliente = pd.read_csv('../Datasets/Clientes.csv', delimiter= ';', encoding= \"utf-8\", usecols=[\"ID\",\"Provincia\",\"Nombre_y_Apellido\",\"Domicilio\",\"Telefono\",\"Edad\",\"Localidad\",\"X\",\"Y\",\"col10\"])\n",
    "compra = pd.read_csv('../Datasets/Compra.csv', delimiter= ',', encoding= \"utf-8\")\n",
    "gasto = pd.read_csv('../Datasets/Gasto.csv', delimiter= ',', encoding= \"utf-8\")\n",
    "localidad = pd.read_csv('../Datasets/Localidades.csv', delimiter= ',', encoding= \"utf-8\")\n",
    "proveedor = pd.read_csv('../Datasets/Proveedores.csv', delimiter= ',', encoding= \"Ansi\")\n",
    "sucursal = pd.read_csv('../Datasets/Sucursales.csv', delimiter= ';', encoding= \"utf-8\")\n",
    "venta = pd.read_csv('../Datasets/Venta.csv', delimiter= ',', encoding= \"utf-8\")"
   ]
  },
  {
   "cell_type": "code",
   "execution_count": 40,
   "metadata": {},
   "outputs": [],
   "source": [
    "def deteccion_nulos(df,plot=True,rotation=45,figsize=(10,5),*kwargs):\n",
    "    labels,values,percent = list(),list(),list()\n",
    "    if df.isna().sum().sum()>0:\n",
    "        for column in df.columns:\n",
    "            if df[column].isna().sum():\n",
    "                labels.append(column)\n",
    "                values.append(df[column].isna().sum())\n",
    "                percent.append((df[column].isna().sum() / df.shape[0])*100)\n",
    "        #Make a dataframe\n",
    "        missings=pd.DataFrame({'Columna':labels,'Val_nulos':values,'PorcentVacio':percent}).sort_values(by='PorcentVacio',ascending=False)\n",
    "        \n",
    "        if plot:\n",
    "            plt.figure(figsize=figsize)\n",
    "            plot = sns.barplot(x=missings.Columna,y=round(missings.PorcentVacio, 2), palette = \"rocket\")\n",
    "            for i in plot.patches:\n",
    "                plot.annotate(i.get_height(),\n",
    "                (i.get_x() + i.get_width() / 2, i.get_height()),\n",
    "                ha = 'center', va = 'baseline', fontsize = 12,\n",
    "                color = 'black', xytext = (0,1),\n",
    "                textcoords = 'offset pixels')\n",
    "            locs, labels = plt.xticks()\n",
    "            plt.setp(labels, rotation=rotation,size=16)\n",
    "            plt.xlabel('Columna',size=18)\n",
    "            plt.ylabel('Porcent',size=18)\n",
    "            plot.set_title('Porcent valores nulos',size=18)\n",
    "            return missings\n",
    "    else:\n",
    "            return False"
   ]
  },
  {
   "cell_type": "code",
   "execution_count": 41,
   "metadata": {},
   "outputs": [],
   "source": [
    "def calidaddelosdatos(data, campo):\n",
    "    Q1 = data[campo].quantile(0.25)\n",
    "    Q3 = data[campo].quantile(0.75)\n",
    "    #Se calcula el rango intercuartilico IQR.\n",
    "    IQR = Q3 -Q1\n",
    "    outliersSup = (Q3 + (1.5 * IQR))\n",
    "    mask = data[campo]<outliersSup\n",
    "    valoresinout = data[mask]\n",
    "    valoressinerrores = valoresinout.shape[0]\n",
    "    valoresnulos=data[campo].isnull().sum()\n",
    "    outliers = data.shape[0]-valoresnulos-valoressinerrores\n",
    "    #porcentajes para graficar\n",
    "    porcentdeout = round((outliers * 100)/data.shape[0], 2)\n",
    "    porcentsinerror = round((valoressinerrores * 100)/data.shape[0], 2)\n",
    "    porcentnulo = round((valoresnulos * 100)/data.shape[0], 2)\n",
    "    #Se cargan los datos para graficar\n",
    "    datos = ['Outliers','Sin Errores' ,'Nulos']\n",
    "    porcentaje = [porcentdeout,porcentsinerror,porcentnulo]\n",
    "    df = pd.DataFrame({\"Datos\": datos,\n",
    "                    \"Porcentaje\": porcentaje})\n",
    "    #Se grafica.\n",
    "    plot = sns.barplot(x='Datos', y=\"Porcentaje\", data=df, palette = \"rocket\")\n",
    "    for i in plot.patches:\n",
    "                plot.annotate(i.get_height(),\n",
    "                (i.get_x() + i.get_width() / 2, i.get_height()),\n",
    "                ha = 'center', va = 'baseline', fontsize = 12,\n",
    "                color = 'black', xytext = (0,1),\n",
    "                textcoords = 'offset pixels')\n",
    "    plot.set_title(f\"Calidad De Los Datos de {campo}\", fontsize = 16)\n",
    "    plt.show()\n",
    "    print('El porcentaje de datos correctos en la columna', campo, 'es de: %{:.2f}'.format(porcentsinerror))\n",
    "    print('El porcentaje de datos nulos en la columna', campo, 'es de: %{:.2f}'.format(porcentnulo))\n",
    "    print('El porcentaje de outliers en la columna', campo, 'es de: %{:.2f}'.format(porcentdeout))\n",
    "    print('Todos los valores por encima de', outliersSup, 'son un outlier')"
   ]
  },
  {
   "cell_type": "markdown",
   "metadata": {},
   "source": [
    "# TABLA VENTA\n",
    "Diccionario\n",
    "| | Columna Normalizada | Columna Original | Tipo de Dato | Descripción |\n",
    "|:-------------------:|---|---|---|---|\n",
    "| 0 | IdVenta | IdVenta | int64 | Clave única que identifica la venta |\n",
    "| 1 | Fecha | Fecha | datetime64 | Fecha de la venta realizada |\n",
    "| 2 | Fecha_Entrega | Fecha_Entrega | datetime64 | Fecha de entrega de la venta realizada |\n",
    "| 3 | IdCanal | IdCanal | int64 | Clave única que identifica el canal de venta |\n",
    "| 4 | IdCliente | IdCliente | int64 | Clave única que identifica al cliente |\n",
    "| 5 | IdSucursal | IdSucursal | int64 | Clave única que identifica a la sucursal |\n",
    "| 6 | IdEmpleado | IdEmpleado | int64 | Clave única que identifica al empleado |\n",
    "| 7 | IdProducto | IdProducto | int64 | Clave única que identifica el producto de la venta|\n",
    "| 8 | Precio | Precio | float64 | Precio total de la venta realizada |\n",
    "| 9 | Cantidad | Cantidad | float64 | Cantidad de producto de la venta realizada |\n",
    "\n",
    "\n"
   ]
  },
  {
   "cell_type": "code",
   "execution_count": 42,
   "metadata": {},
   "outputs": [
    {
     "name": "stdout",
     "output_type": "stream",
     "text": [
      "La tabla venta tiene (46180, 10) registros y columnas en total\n"
     ]
    }
   ],
   "source": [
    "print('La tabla venta tiene', venta.shape, 'registros y columnas en total')"
   ]
  },
  {
   "cell_type": "code",
   "execution_count": 43,
   "metadata": {},
   "outputs": [
    {
     "data": {
      "text/html": [
       "<div>\n",
       "<style scoped>\n",
       "    .dataframe tbody tr th:only-of-type {\n",
       "        vertical-align: middle;\n",
       "    }\n",
       "\n",
       "    .dataframe tbody tr th {\n",
       "        vertical-align: top;\n",
       "    }\n",
       "\n",
       "    .dataframe thead th {\n",
       "        text-align: right;\n",
       "    }\n",
       "</style>\n",
       "<table border=\"1\" class=\"dataframe\">\n",
       "  <thead>\n",
       "    <tr style=\"text-align: right;\">\n",
       "      <th></th>\n",
       "      <th>IdVenta</th>\n",
       "      <th>Fecha</th>\n",
       "      <th>Fecha_Entrega</th>\n",
       "      <th>IdCanal</th>\n",
       "      <th>IdCliente</th>\n",
       "      <th>IdSucursal</th>\n",
       "      <th>IdEmpleado</th>\n",
       "      <th>IdProducto</th>\n",
       "      <th>Precio</th>\n",
       "      <th>Cantidad</th>\n",
       "    </tr>\n",
       "  </thead>\n",
       "  <tbody>\n",
       "    <tr>\n",
       "      <th>0</th>\n",
       "      <td>1</td>\n",
       "      <td>2018-03-09</td>\n",
       "      <td>2018-03-17</td>\n",
       "      <td>3</td>\n",
       "      <td>969</td>\n",
       "      <td>13</td>\n",
       "      <td>1674</td>\n",
       "      <td>42817</td>\n",
       "      <td>813.12</td>\n",
       "      <td>2.0</td>\n",
       "    </tr>\n",
       "  </tbody>\n",
       "</table>\n",
       "</div>"
      ],
      "text/plain": [
       "   IdVenta       Fecha Fecha_Entrega  IdCanal  IdCliente  IdSucursal  \\\n",
       "0        1  2018-03-09    2018-03-17        3        969          13   \n",
       "\n",
       "   IdEmpleado  IdProducto  Precio  Cantidad  \n",
       "0        1674       42817  813.12       2.0  "
      ]
     },
     "execution_count": 43,
     "metadata": {},
     "output_type": "execute_result"
    }
   ],
   "source": [
    "venta.head(1)"
   ]
  },
  {
   "cell_type": "code",
   "execution_count": 44,
   "metadata": {},
   "outputs": [
    {
     "name": "stdout",
     "output_type": "stream",
     "text": [
      "El total de valores nulos de la tabla venta es de 1804\n"
     ]
    }
   ],
   "source": [
    "total_nulos = venta.isnull().sum().sort_values(ascending = False)\n",
    "def nulos(nulo):\n",
    "    nul=0\n",
    "    for i in range(0,len(nulo)-1):\n",
    "     if nulo[i] >= 0:\n",
    "         nul+= nulo[i]\n",
    "    return nul\n",
    "print('El total de valores nulos de la tabla venta es de', nulos(total_nulos))"
   ]
  },
  {
   "cell_type": "code",
   "execution_count": 45,
   "metadata": {},
   "outputs": [
    {
     "data": {
      "text/html": [
       "<div>\n",
       "<style scoped>\n",
       "    .dataframe tbody tr th:only-of-type {\n",
       "        vertical-align: middle;\n",
       "    }\n",
       "\n",
       "    .dataframe tbody tr th {\n",
       "        vertical-align: top;\n",
       "    }\n",
       "\n",
       "    .dataframe thead th {\n",
       "        text-align: right;\n",
       "    }\n",
       "</style>\n",
       "<table border=\"1\" class=\"dataframe\">\n",
       "  <thead>\n",
       "    <tr style=\"text-align: right;\">\n",
       "      <th></th>\n",
       "      <th>Columna</th>\n",
       "      <th>Val_nulos</th>\n",
       "      <th>PorcentVacio</th>\n",
       "    </tr>\n",
       "  </thead>\n",
       "  <tbody>\n",
       "    <tr>\n",
       "      <th>0</th>\n",
       "      <td>Precio</td>\n",
       "      <td>920</td>\n",
       "      <td>1.992204</td>\n",
       "    </tr>\n",
       "    <tr>\n",
       "      <th>1</th>\n",
       "      <td>Cantidad</td>\n",
       "      <td>884</td>\n",
       "      <td>1.914249</td>\n",
       "    </tr>\n",
       "  </tbody>\n",
       "</table>\n",
       "</div>"
      ],
      "text/plain": [
       "    Columna  Val_nulos  PorcentVacio\n",
       "0    Precio        920      1.992204\n",
       "1  Cantidad        884      1.914249"
      ]
     },
     "execution_count": 45,
     "metadata": {},
     "output_type": "execute_result"
    },
    {
     "data": {
      "image/png": "[encoded data removed]",
      "text/plain": [
       "<Figure size 720x360 with 1 Axes>"
      ]
     },
     "metadata": {
      "needs_background": "light"
     },
     "output_type": "display_data"
    }
   ],
   "source": [
    "deteccion_nulos(venta)"
   ]
  },
  {
   "cell_type": "code",
   "execution_count": 46,
   "metadata": {},
   "outputs": [
    {
     "data": {
      "image/png": "[encoded data removed]",
      "text/plain": [
       "<Figure size 432x288 with 1 Axes>"
      ]
     },
     "metadata": {
      "needs_background": "light"
     },
     "output_type": "display_data"
    },
    {
     "name": "stdout",
     "output_type": "stream",
     "text": [
      "El porcentaje de datos correctos en la columna Precio es de: %92.65\n",
      "El porcentaje de datos nulos en la columna Precio es de: %1.99\n",
      "El porcentaje de outliers en la columna Precio es de: %5.36\n",
      "Todos los valores por encima de 3815.5 son un outlier\n"
     ]
    }
   ],
   "source": [
    "calidaddelosdatos(venta,'Precio')"
   ]
  },
  {
   "cell_type": "code",
   "execution_count": 47,
   "metadata": {},
   "outputs": [
    {
     "data": {
      "image/png": "[encoded data removed]",
      "text/plain": [
       "<Figure size 432x288 with 1 Axes>"
      ]
     },
     "metadata": {
      "needs_background": "light"
     },
     "output_type": "display_data"
    },
    {
     "name": "stdout",
     "output_type": "stream",
     "text": [
      "El porcentaje de datos correctos en la columna Cantidad es de: %96.12\n",
      "El porcentaje de datos nulos en la columna Cantidad es de: %1.91\n",
      "El porcentaje de outliers en la columna Cantidad es de: %1.97\n",
      "Todos los valores por encima de 4.5 son un outlier\n"
     ]
    }
   ],
   "source": [
    "calidaddelosdatos(venta, 'Cantidad')"
   ]
  },
  {
   "cell_type": "markdown",
   "metadata": {},
   "source": [
    "# TABLA CLIENTE\n",
    "Diccionario\n",
    "| | Columna Normalizada | Columna Original | Tipo de Dato | Descripción |\n",
    "|:-------------------:|---|---|---|---|\n",
    "| 0 | IdCliente | ID | int64 | Clave única que identifica al cliente |\n",
    "| 1 | Nombre_y_Apellido | Nombre_y_Apellido | object | Nombre y apellido del cliente |\n",
    "| 2 | Edad | Edad | int64 | Edad del cliente |\n",
    "| 3 | Telefono | Telefono | object | Teléfono del cliente |\n",
    "| 4 | Domicilio | Domicilio | object | Domicilio del cliente |\n",
    "| 5 | Provincia | Provincia | object | Provincia del cliente |\n",
    "| 6 | Localidad | Localidad | object | Localidad del cliente |\n",
    "| 7 | Latitud | X | float64 | Latitud del domicilio del cliente |\n",
    "| 8 | Longitud | Y | float64 | Longitud del domicilio del cliente |"
   ]
  },
  {
   "cell_type": "code",
   "execution_count": 48,
   "metadata": {},
   "outputs": [
    {
     "name": "stdout",
     "output_type": "stream",
     "text": [
      "La tabla cliente tiene (2384, 10) registros y colunmas en total\n"
     ]
    }
   ],
   "source": [
    "print('La tabla cliente tiene', cliente.shape, 'registros y colunmas en total')"
   ]
  },
  {
   "cell_type": "code",
   "execution_count": 49,
   "metadata": {},
   "outputs": [
    {
     "data": {
      "text/html": [
       "<div>\n",
       "<style scoped>\n",
       "    .dataframe tbody tr th:only-of-type {\n",
       "        vertical-align: middle;\n",
       "    }\n",
       "\n",
       "    .dataframe tbody tr th {\n",
       "        vertical-align: top;\n",
       "    }\n",
       "\n",
       "    .dataframe thead th {\n",
       "        text-align: right;\n",
       "    }\n",
       "</style>\n",
       "<table border=\"1\" class=\"dataframe\">\n",
       "  <thead>\n",
       "    <tr style=\"text-align: right;\">\n",
       "      <th></th>\n",
       "      <th>ID</th>\n",
       "      <th>Provincia</th>\n",
       "      <th>Nombre_y_Apellido</th>\n",
       "      <th>Domicilio</th>\n",
       "      <th>Telefono</th>\n",
       "      <th>Edad</th>\n",
       "      <th>Localidad</th>\n",
       "      <th>X</th>\n",
       "      <th>Y</th>\n",
       "      <th>col10</th>\n",
       "    </tr>\n",
       "  </thead>\n",
       "  <tbody>\n",
       "    <tr>\n",
       "      <th>0</th>\n",
       "      <td>1</td>\n",
       "      <td>Buenos Aires</td>\n",
       "      <td>HEBER JONI SANTANA</td>\n",
       "      <td>LAS HERAS Y BAT. 24 DE FEBRERO 4150  RINCON DE...</td>\n",
       "      <td>42-5161</td>\n",
       "      <td>58</td>\n",
       "      <td>LOMA VERDE</td>\n",
       "      <td>-58,81850307</td>\n",
       "      <td>-34,30997088</td>\n",
       "      <td>NaN</td>\n",
       "    </tr>\n",
       "  </tbody>\n",
       "</table>\n",
       "</div>"
      ],
      "text/plain": [
       "   ID     Provincia   Nombre_y_Apellido  \\\n",
       "0   1  Buenos Aires  HEBER JONI SANTANA   \n",
       "\n",
       "                                           Domicilio Telefono  Edad  \\\n",
       "0  LAS HERAS Y BAT. 24 DE FEBRERO 4150  RINCON DE...  42-5161    58   \n",
       "\n",
       "    Localidad             X             Y  col10  \n",
       "0  LOMA VERDE  -58,81850307  -34,30997088    NaN  "
      ]
     },
     "execution_count": 49,
     "metadata": {},
     "output_type": "execute_result"
    }
   ],
   "source": [
    "cliente.head(1)"
   ]
  },
  {
   "cell_type": "code",
   "execution_count": 50,
   "metadata": {},
   "outputs": [
    {
     "name": "stdout",
     "output_type": "stream",
     "text": [
      "El total de valores nulos de la tabla cliente es de 2633\n"
     ]
    }
   ],
   "source": [
    "total_nulos = cliente.isnull().sum().sort_values(ascending = False)\n",
    "def nulos(nulo):\n",
    "    nul=0\n",
    "    for i in range(0,len(nulo)-1):\n",
    "     if nulo[i] >= 0:\n",
    "         nul+= nulo[i]\n",
    "    return nul\n",
    "print('El total de valores nulos de la tabla cliente es de', nulos(total_nulos))"
   ]
  },
  {
   "cell_type": "code",
   "execution_count": 51,
   "metadata": {},
   "outputs": [
    {
     "data": {
      "text/html": [
       "<div>\n",
       "<style scoped>\n",
       "    .dataframe tbody tr th:only-of-type {\n",
       "        vertical-align: middle;\n",
       "    }\n",
       "\n",
       "    .dataframe tbody tr th {\n",
       "        vertical-align: top;\n",
       "    }\n",
       "\n",
       "    .dataframe thead th {\n",
       "        text-align: right;\n",
       "    }\n",
       "</style>\n",
       "<table border=\"1\" class=\"dataframe\">\n",
       "  <thead>\n",
       "    <tr style=\"text-align: right;\">\n",
       "      <th></th>\n",
       "      <th>Columna</th>\n",
       "      <th>Val_nulos</th>\n",
       "      <th>PorcentVacio</th>\n",
       "    </tr>\n",
       "  </thead>\n",
       "  <tbody>\n",
       "    <tr>\n",
       "      <th>7</th>\n",
       "      <td>col10</td>\n",
       "      <td>2384</td>\n",
       "      <td>100.000000</td>\n",
       "    </tr>\n",
       "    <tr>\n",
       "      <th>5</th>\n",
       "      <td>X</td>\n",
       "      <td>54</td>\n",
       "      <td>2.265101</td>\n",
       "    </tr>\n",
       "    <tr>\n",
       "      <th>6</th>\n",
       "      <td>Y</td>\n",
       "      <td>52</td>\n",
       "      <td>2.181208</td>\n",
       "    </tr>\n",
       "    <tr>\n",
       "      <th>2</th>\n",
       "      <td>Domicilio</td>\n",
       "      <td>43</td>\n",
       "      <td>1.803691</td>\n",
       "    </tr>\n",
       "    <tr>\n",
       "      <th>3</th>\n",
       "      <td>Telefono</td>\n",
       "      <td>31</td>\n",
       "      <td>1.300336</td>\n",
       "    </tr>\n",
       "    <tr>\n",
       "      <th>0</th>\n",
       "      <td>Provincia</td>\n",
       "      <td>25</td>\n",
       "      <td>1.048658</td>\n",
       "    </tr>\n",
       "    <tr>\n",
       "      <th>4</th>\n",
       "      <td>Localidad</td>\n",
       "      <td>25</td>\n",
       "      <td>1.048658</td>\n",
       "    </tr>\n",
       "    <tr>\n",
       "      <th>1</th>\n",
       "      <td>Nombre_y_Apellido</td>\n",
       "      <td>19</td>\n",
       "      <td>0.796980</td>\n",
       "    </tr>\n",
       "  </tbody>\n",
       "</table>\n",
       "</div>"
      ],
      "text/plain": [
       "             Columna  Val_nulos  PorcentVacio\n",
       "7              col10       2384    100.000000\n",
       "5                  X         54      2.265101\n",
       "6                  Y         52      2.181208\n",
       "2          Domicilio         43      1.803691\n",
       "3           Telefono         31      1.300336\n",
       "0          Provincia         25      1.048658\n",
       "4          Localidad         25      1.048658\n",
       "1  Nombre_y_Apellido         19      0.796980"
      ]
     },
     "execution_count": 51,
     "metadata": {},
     "output_type": "execute_result"
    },
    {
     "data": {
      "image/png": "[encoded data removed]",
      "text/plain": [
       "<Figure size 720x360 with 1 Axes>"
      ]
     },
     "metadata": {
      "needs_background": "light"
     },
     "output_type": "display_data"
    }
   ],
   "source": [
    "deteccion_nulos(cliente)"
   ]
  },
  {
   "cell_type": "code",
   "execution_count": 52,
   "metadata": {},
   "outputs": [
    {
     "data": {
      "text/html": [
       "<div>\n",
       "<style scoped>\n",
       "    .dataframe tbody tr th:only-of-type {\n",
       "        vertical-align: middle;\n",
       "    }\n",
       "\n",
       "    .dataframe tbody tr th {\n",
       "        vertical-align: top;\n",
       "    }\n",
       "\n",
       "    .dataframe thead th {\n",
       "        text-align: right;\n",
       "    }\n",
       "</style>\n",
       "<table border=\"1\" class=\"dataframe\">\n",
       "  <thead>\n",
       "    <tr style=\"text-align: right;\">\n",
       "      <th></th>\n",
       "      <th>Columna</th>\n",
       "      <th>Val_nulos</th>\n",
       "      <th>PorcentVacio</th>\n",
       "    </tr>\n",
       "  </thead>\n",
       "  <tbody>\n",
       "    <tr>\n",
       "      <th>5</th>\n",
       "      <td>X</td>\n",
       "      <td>54</td>\n",
       "      <td>2.265101</td>\n",
       "    </tr>\n",
       "    <tr>\n",
       "      <th>6</th>\n",
       "      <td>Y</td>\n",
       "      <td>52</td>\n",
       "      <td>2.181208</td>\n",
       "    </tr>\n",
       "    <tr>\n",
       "      <th>2</th>\n",
       "      <td>Domicilio</td>\n",
       "      <td>43</td>\n",
       "      <td>1.803691</td>\n",
       "    </tr>\n",
       "    <tr>\n",
       "      <th>3</th>\n",
       "      <td>Telefono</td>\n",
       "      <td>31</td>\n",
       "      <td>1.300336</td>\n",
       "    </tr>\n",
       "    <tr>\n",
       "      <th>0</th>\n",
       "      <td>Provincia</td>\n",
       "      <td>25</td>\n",
       "      <td>1.048658</td>\n",
       "    </tr>\n",
       "    <tr>\n",
       "      <th>4</th>\n",
       "      <td>Localidad</td>\n",
       "      <td>25</td>\n",
       "      <td>1.048658</td>\n",
       "    </tr>\n",
       "    <tr>\n",
       "      <th>1</th>\n",
       "      <td>Nombre_y_Apellido</td>\n",
       "      <td>19</td>\n",
       "      <td>0.796980</td>\n",
       "    </tr>\n",
       "  </tbody>\n",
       "</table>\n",
       "</div>"
      ],
      "text/plain": [
       "             Columna  Val_nulos  PorcentVacio\n",
       "5                  X         54      2.265101\n",
       "6                  Y         52      2.181208\n",
       "2          Domicilio         43      1.803691\n",
       "3           Telefono         31      1.300336\n",
       "0          Provincia         25      1.048658\n",
       "4          Localidad         25      1.048658\n",
       "1  Nombre_y_Apellido         19      0.796980"
      ]
     },
     "execution_count": 52,
     "metadata": {},
     "output_type": "execute_result"
    },
    {
     "data": {
      "image/png": "[encoded data removed]",
      "text/plain": [
       "<Figure size 720x360 with 1 Axes>"
      ]
     },
     "metadata": {
      "needs_background": "light"
     },
     "output_type": "display_data"
    }
   ],
   "source": [
    "deteccion_nulos(cliente.drop(columns='col10'))"
   ]
  },
  {
   "cell_type": "markdown",
   "metadata": {},
   "source": [
    "## TABLA SUCURSAL\n",
    "DIRECCION\n",
    "| | Columna Normalizada | Columna Original | Tipo de Dato | Descripción |\n",
    "|:-------------------:|---|---|---|---|\n",
    "| 0 | IdSucursal | ID | int64 | Clave única que identifica la sucursal |\n",
    "| 1 | Sucursal | Sucursal | object | Nombre de la sucursal |\n",
    "| 2 | Domicilio | Direccion | object | Domicilio de la sucursal |\n",
    "| 3 | Localidad | Localidad | object | Localidad de la sucursal |\n",
    "| 4 | Provincia | Provincia | object | Provincia de la sucursal |\n",
    "| 5 | Latitud | Latitud | float64 | Latitud de la sucursal |\n",
    "| 6 | Longitud | Longitud | float64 | Longitud de la sucursal |"
   ]
  },
  {
   "cell_type": "code",
   "execution_count": 53,
   "metadata": {},
   "outputs": [
    {
     "name": "stdout",
     "output_type": "stream",
     "text": [
      "La tabla sucursal tiene (31, 7) registros y columnas en total\n"
     ]
    }
   ],
   "source": [
    "print('La tabla sucursal tiene', sucursal.shape, 'registros y columnas en total')"
   ]
  },
  {
   "cell_type": "code",
   "execution_count": 54,
   "metadata": {},
   "outputs": [
    {
     "data": {
      "text/html": [
       "<div>\n",
       "<style scoped>\n",
       "    .dataframe tbody tr th:only-of-type {\n",
       "        vertical-align: middle;\n",
       "    }\n",
       "\n",
       "    .dataframe tbody tr th {\n",
       "        vertical-align: top;\n",
       "    }\n",
       "\n",
       "    .dataframe thead th {\n",
       "        text-align: right;\n",
       "    }\n",
       "</style>\n",
       "<table border=\"1\" class=\"dataframe\">\n",
       "  <thead>\n",
       "    <tr style=\"text-align: right;\">\n",
       "      <th></th>\n",
       "      <th>ID</th>\n",
       "      <th>Sucursal</th>\n",
       "      <th>Direccion</th>\n",
       "      <th>Localidad</th>\n",
       "      <th>Provincia</th>\n",
       "      <th>Latitud</th>\n",
       "      <th>Longitud</th>\n",
       "    </tr>\n",
       "  </thead>\n",
       "  <tbody>\n",
       "    <tr>\n",
       "      <th>0</th>\n",
       "      <td>1</td>\n",
       "      <td>Cabildo</td>\n",
       "      <td>Av. Cabildo 1342</td>\n",
       "      <td>Ciudad de Buenos Aires</td>\n",
       "      <td>Ciudad de Buenos Aires</td>\n",
       "      <td>-34,5678060</td>\n",
       "      <td>-58,4495720</td>\n",
       "    </tr>\n",
       "  </tbody>\n",
       "</table>\n",
       "</div>"
      ],
      "text/plain": [
       "   ID Sucursal         Direccion               Localidad  \\\n",
       "0   1  Cabildo  Av. Cabildo 1342  Ciudad de Buenos Aires   \n",
       "\n",
       "                Provincia      Latitud     Longitud  \n",
       "0  Ciudad de Buenos Aires  -34,5678060  -58,4495720  "
      ]
     },
     "execution_count": 54,
     "metadata": {},
     "output_type": "execute_result"
    }
   ],
   "source": [
    "sucursal.head(1)"
   ]
  },
  {
   "cell_type": "code",
   "execution_count": 55,
   "metadata": {},
   "outputs": [
    {
     "name": "stdout",
     "output_type": "stream",
     "text": [
      "El total de valores nulos de la tabla sucursal es de 0\n"
     ]
    }
   ],
   "source": [
    "total_nulos = sucursal.isnull().sum().sort_values(ascending = False)\n",
    "def nulos(nulo):\n",
    "    nul=0\n",
    "    for i in range(0,len(nulo)-1):\n",
    "     if nulo[i] >= 0:\n",
    "         nul+= nulo[i]\n",
    "    return nul\n",
    "print('El total de valores nulos de la tabla sucursal es de', nulos(total_nulos))"
   ]
  },
  {
   "cell_type": "code",
   "execution_count": 56,
   "metadata": {},
   "outputs": [
    {
     "data": {
      "text/plain": [
       "False"
      ]
     },
     "execution_count": 56,
     "metadata": {},
     "output_type": "execute_result"
    }
   ],
   "source": [
    "deteccion_nulos(sucursal)"
   ]
  },
  {
   "cell_type": "markdown",
   "metadata": {},
   "source": [
    "## TABLA PROVEEDOR\n",
    "DICCIONARIO\n",
    "| | Columna Normalizada | Columna Original | Tipo de Dato | Descripción |\n",
    "|:-------------------:|---|---|---|---|\n",
    "| 0 | IdProveedor | IDProveedor | int64 | Clave única que identifica al proveedor |\n",
    "| 1 | Proveedor | Nombre | object | Nombre del proveedor |\n",
    "| 2 | Domicilio | Address | object | Domicilio del proveedor |\n",
    "| 3 | Ciudad | City | object | Ciudad del proveedor |\n",
    "| 4 | Provincia | State | object | Provincia del proveedor |\n",
    "| 5 | Pais | Country | object | Pais del proveedor |\n",
    "| 6 | Departamento | departamen | object | Departamento del proveedor |"
   ]
  },
  {
   "cell_type": "code",
   "execution_count": 57,
   "metadata": {},
   "outputs": [
    {
     "name": "stdout",
     "output_type": "stream",
     "text": [
      "La tabla proveedor tiene (14, 7) registros y columnas en total\n"
     ]
    }
   ],
   "source": [
    "print('La tabla proveedor tiene', proveedor.shape, 'registros y columnas en total')"
   ]
  },
  {
   "cell_type": "code",
   "execution_count": 58,
   "metadata": {},
   "outputs": [
    {
     "data": {
      "text/html": [
       "<div>\n",
       "<style scoped>\n",
       "    .dataframe tbody tr th:only-of-type {\n",
       "        vertical-align: middle;\n",
       "    }\n",
       "\n",
       "    .dataframe tbody tr th {\n",
       "        vertical-align: top;\n",
       "    }\n",
       "\n",
       "    .dataframe thead th {\n",
       "        text-align: right;\n",
       "    }\n",
       "</style>\n",
       "<table border=\"1\" class=\"dataframe\">\n",
       "  <thead>\n",
       "    <tr style=\"text-align: right;\">\n",
       "      <th></th>\n",
       "      <th>IDProveedor</th>\n",
       "      <th>Nombre</th>\n",
       "      <th>Address</th>\n",
       "      <th>City</th>\n",
       "      <th>State</th>\n",
       "      <th>Country</th>\n",
       "      <th>departamen</th>\n",
       "    </tr>\n",
       "  </thead>\n",
       "  <tbody>\n",
       "    <tr>\n",
       "      <th>0</th>\n",
       "      <td>1</td>\n",
       "      <td>NaN</td>\n",
       "      <td>BEREGUESTEIN 36</td>\n",
       "      <td>AVELLANEDA</td>\n",
       "      <td>BUENOS AIRES</td>\n",
       "      <td>ARGENTINA</td>\n",
       "      <td>AVELLANEDA</td>\n",
       "    </tr>\n",
       "  </tbody>\n",
       "</table>\n",
       "</div>"
      ],
      "text/plain": [
       "   IDProveedor Nombre          Address        City         State    Country  \\\n",
       "0            1    NaN  BEREGUESTEIN 36  AVELLANEDA  BUENOS AIRES  ARGENTINA   \n",
       "\n",
       "   departamen  \n",
       "0  AVELLANEDA  "
      ]
     },
     "execution_count": 58,
     "metadata": {},
     "output_type": "execute_result"
    }
   ],
   "source": [
    "proveedor.head(1)"
   ]
  },
  {
   "cell_type": "code",
   "execution_count": 59,
   "metadata": {},
   "outputs": [
    {
     "name": "stdout",
     "output_type": "stream",
     "text": [
      "El total de valores nulos de la tabla proveedor es de 2\n"
     ]
    }
   ],
   "source": [
    "total_nulos = proveedor.isnull().sum().sort_values(ascending = False)\n",
    "def nulos(nulo):\n",
    "    nul=0\n",
    "    for i in range(0,len(nulo)-1):\n",
    "     if nulo[i] >= 0:\n",
    "         nul+= nulo[i]\n",
    "    return nul\n",
    "print('El total de valores nulos de la tabla proveedor es de', nulos(total_nulos))"
   ]
  },
  {
   "cell_type": "code",
   "execution_count": 60,
   "metadata": {},
   "outputs": [
    {
     "data": {
      "text/html": [
       "<div>\n",
       "<style scoped>\n",
       "    .dataframe tbody tr th:only-of-type {\n",
       "        vertical-align: middle;\n",
       "    }\n",
       "\n",
       "    .dataframe tbody tr th {\n",
       "        vertical-align: top;\n",
       "    }\n",
       "\n",
       "    .dataframe thead th {\n",
       "        text-align: right;\n",
       "    }\n",
       "</style>\n",
       "<table border=\"1\" class=\"dataframe\">\n",
       "  <thead>\n",
       "    <tr style=\"text-align: right;\">\n",
       "      <th></th>\n",
       "      <th>Columna</th>\n",
       "      <th>Val_nulos</th>\n",
       "      <th>PorcentVacio</th>\n",
       "    </tr>\n",
       "  </thead>\n",
       "  <tbody>\n",
       "    <tr>\n",
       "      <th>0</th>\n",
       "      <td>Nombre</td>\n",
       "      <td>2</td>\n",
       "      <td>14.285714</td>\n",
       "    </tr>\n",
       "  </tbody>\n",
       "</table>\n",
       "</div>"
      ],
      "text/plain": [
       "  Columna  Val_nulos  PorcentVacio\n",
       "0  Nombre          2     14.285714"
      ]
     },
     "execution_count": 60,
     "metadata": {},
     "output_type": "execute_result"
    },
    {
     "data": {
      "image/png": "[encoded data removed]",
      "text/plain": [
       "<Figure size 720x360 with 1 Axes>"
      ]
     },
     "metadata": {
      "needs_background": "light"
     },
     "output_type": "display_data"
    }
   ],
   "source": [
    "deteccion_nulos(proveedor)"
   ]
  },
  {
   "cell_type": "markdown",
   "metadata": {},
   "source": [
    "## TABLA LOCALIDAD\n",
    "DICCIONARIO\n",
    "| | Columna Normalizada | Columna Original | Tipo de Dato | Descripción |\n",
    "|:-------------------:|---|---|---|---|\n",
    "| 0 | IdLocalidad | id | int64 | Clave única que identifica la localidad |\n",
    "| 1 | Localidad | nombre | object | Nombre de la localidad |\n",
    "| 2 | IdMunicipio | municipio_id | int64 | Clave única que identifica al municipio |\n",
    "| 3 | Municipio | municipio_nombre | object | Nombre del municipio |\n",
    "| 4 | IdDepartamento | departamento_id | int64 | Clave única que identifica al departamento |\n",
    "| 5 | Departamento | departamento_nombre | object | Nombre del departamento |\n",
    "| 6 | IdProvincia | provincia_id | int64 | Clave única que identifica la provincia |\n",
    "| 7 | Provincia | provincia_nombre | object | Nombre de la provincia |\n",
    "| 8 | Fuente | fuente | object | Fuente de información de datos censales |\n",
    "| 9 | IdLocalidadCensal | localidad_censal_id | int64 | Clave única que identifica la localidad censal  |\n",
    "| 10 | LocalidadCensal | localidad_censal_nombre | object | Nombre de la localidad censal |\n",
    "| 11 | Categoria | categoria | object | Categoria de la localidad censal |\n",
    "| 12 | Latitud | centroide_lat | float64 | Latitud de la localidad |\n",
    "| 13 | Longitud | centroide_lon | float64 | Longitud de la localidad |"
   ]
  },
  {
   "cell_type": "code",
   "execution_count": 61,
   "metadata": {},
   "outputs": [
    {
     "name": "stdout",
     "output_type": "stream",
     "text": [
      "La tabla localidad tiene (4142, 14) registros y columnas en total\n"
     ]
    }
   ],
   "source": [
    "print('La tabla localidad tiene', localidad.shape, 'registros y columnas en total')"
   ]
  },
  {
   "cell_type": "code",
   "execution_count": 62,
   "metadata": {},
   "outputs": [
    {
     "data": {
      "text/html": [
       "<div>\n",
       "<style scoped>\n",
       "    .dataframe tbody tr th:only-of-type {\n",
       "        vertical-align: middle;\n",
       "    }\n",
       "\n",
       "    .dataframe tbody tr th {\n",
       "        vertical-align: top;\n",
       "    }\n",
       "\n",
       "    .dataframe thead th {\n",
       "        text-align: right;\n",
       "    }\n",
       "</style>\n",
       "<table border=\"1\" class=\"dataframe\">\n",
       "  <thead>\n",
       "    <tr style=\"text-align: right;\">\n",
       "      <th></th>\n",
       "      <th>categoria</th>\n",
       "      <th>centroide_lat</th>\n",
       "      <th>centroide_lon</th>\n",
       "      <th>departamento_id</th>\n",
       "      <th>departamento_nombre</th>\n",
       "      <th>fuente</th>\n",
       "      <th>id</th>\n",
       "      <th>localidad_censal_id</th>\n",
       "      <th>localidad_censal_nombre</th>\n",
       "      <th>municipio_id</th>\n",
       "      <th>municipio_nombre</th>\n",
       "      <th>nombre</th>\n",
       "      <th>provincia_id</th>\n",
       "      <th>provincia_nombre</th>\n",
       "    </tr>\n",
       "  </thead>\n",
       "  <tbody>\n",
       "    <tr>\n",
       "      <th>0</th>\n",
       "      <td>Localidad simple</td>\n",
       "      <td>-35.033073</td>\n",
       "      <td>-60.28062</td>\n",
       "      <td>6021.0</td>\n",
       "      <td>Alberti</td>\n",
       "      <td>INDEC</td>\n",
       "      <td>6021010000</td>\n",
       "      <td>6021010</td>\n",
       "      <td>Alberti</td>\n",
       "      <td>60021.0</td>\n",
       "      <td>Alberti</td>\n",
       "      <td>ALBERTI</td>\n",
       "      <td>6</td>\n",
       "      <td>Buenos Aires</td>\n",
       "    </tr>\n",
       "  </tbody>\n",
       "</table>\n",
       "</div>"
      ],
      "text/plain": [
       "          categoria  centroide_lat  centroide_lon  departamento_id  \\\n",
       "0  Localidad simple     -35.033073      -60.28062           6021.0   \n",
       "\n",
       "  departamento_nombre fuente          id  localidad_censal_id  \\\n",
       "0             Alberti  INDEC  6021010000              6021010   \n",
       "\n",
       "  localidad_censal_nombre  municipio_id municipio_nombre   nombre  \\\n",
       "0                 Alberti       60021.0          Alberti  ALBERTI   \n",
       "\n",
       "   provincia_id provincia_nombre  \n",
       "0             6     Buenos Aires  "
      ]
     },
     "execution_count": 62,
     "metadata": {},
     "output_type": "execute_result"
    }
   ],
   "source": [
    "localidad.head(1)"
   ]
  },
  {
   "cell_type": "code",
   "execution_count": 63,
   "metadata": {},
   "outputs": [
    {
     "name": "stdout",
     "output_type": "stream",
     "text": [
      "El total de valores nulos de la tabla localidad es de 1039\n"
     ]
    }
   ],
   "source": [
    "total_nulos = localidad.isnull().sum().sort_values(ascending = False)\n",
    "def nulos(nulo):\n",
    "    nul=0\n",
    "    for i in range(0,len(nulo)-1):\n",
    "     if nulo[i] >= 0:\n",
    "         nul+= nulo[i]\n",
    "    return nul\n",
    "print('El total de valores nulos de la tabla localidad es de', nulos(total_nulos))"
   ]
  },
  {
   "cell_type": "code",
   "execution_count": 64,
   "metadata": {},
   "outputs": [
    {
     "data": {
      "text/html": [
       "<div>\n",
       "<style scoped>\n",
       "    .dataframe tbody tr th:only-of-type {\n",
       "        vertical-align: middle;\n",
       "    }\n",
       "\n",
       "    .dataframe tbody tr th {\n",
       "        vertical-align: top;\n",
       "    }\n",
       "\n",
       "    .dataframe thead th {\n",
       "        text-align: right;\n",
       "    }\n",
       "</style>\n",
       "<table border=\"1\" class=\"dataframe\">\n",
       "  <thead>\n",
       "    <tr style=\"text-align: right;\">\n",
       "      <th></th>\n",
       "      <th>Columna</th>\n",
       "      <th>Val_nulos</th>\n",
       "      <th>PorcentVacio</th>\n",
       "    </tr>\n",
       "  </thead>\n",
       "  <tbody>\n",
       "    <tr>\n",
       "      <th>2</th>\n",
       "      <td>municipio_id</td>\n",
       "      <td>543</td>\n",
       "      <td>13.109609</td>\n",
       "    </tr>\n",
       "    <tr>\n",
       "      <th>3</th>\n",
       "      <td>municipio_nombre</td>\n",
       "      <td>494</td>\n",
       "      <td>11.926606</td>\n",
       "    </tr>\n",
       "    <tr>\n",
       "      <th>0</th>\n",
       "      <td>departamento_id</td>\n",
       "      <td>1</td>\n",
       "      <td>0.024143</td>\n",
       "    </tr>\n",
       "    <tr>\n",
       "      <th>1</th>\n",
       "      <td>departamento_nombre</td>\n",
       "      <td>1</td>\n",
       "      <td>0.024143</td>\n",
       "    </tr>\n",
       "  </tbody>\n",
       "</table>\n",
       "</div>"
      ],
      "text/plain": [
       "               Columna  Val_nulos  PorcentVacio\n",
       "2         municipio_id        543     13.109609\n",
       "3     municipio_nombre        494     11.926606\n",
       "0      departamento_id          1      0.024143\n",
       "1  departamento_nombre          1      0.024143"
      ]
     },
     "execution_count": 64,
     "metadata": {},
     "output_type": "execute_result"
    },
    {
     "data": {
      "image/png": "[encoded data removed]",
      "text/plain": [
       "<Figure size 720x360 with 1 Axes>"
      ]
     },
     "metadata": {
      "needs_background": "light"
     },
     "output_type": "display_data"
    }
   ],
   "source": [
    "deteccion_nulos(localidad)"
   ]
  },
  {
   "cell_type": "markdown",
   "metadata": {},
   "source": [
    "## TABLA GASTO\n",
    "DICCIONARIO\n",
    "| | Columna Normalizada | Columna Original | Tipo de Dato | Descripción |\n",
    "|:-------------------:|---|---|---|---|\n",
    "| 0 | IdGasto | IdGasto | int64 | Clave única que identifica el gasto |\n",
    "| 1 | IdSucursal | IdSucursal | int64 | Clave única que identifica la sucursal |\n",
    "| 2 | IdTipoGasto | IdTipoGasto | int64 | Clave única que identifica el tipo de gasto |\n",
    "| 3 | Fecha | Fecha | datetime64 | Fecha registrada del gasto |\n",
    "| 4 | Monto | Monto | float64 | Monto total del gasto |"
   ]
  },
  {
   "cell_type": "code",
   "execution_count": 65,
   "metadata": {},
   "outputs": [
    {
     "name": "stdout",
     "output_type": "stream",
     "text": [
      "La tabla gasto tiene (8640, 5) registros y columnas en total\n"
     ]
    }
   ],
   "source": [
    "print('La tabla gasto tiene', gasto.shape, 'registros y columnas en total')"
   ]
  },
  {
   "cell_type": "code",
   "execution_count": 66,
   "metadata": {},
   "outputs": [
    {
     "data": {
      "text/html": [
       "<div>\n",
       "<style scoped>\n",
       "    .dataframe tbody tr th:only-of-type {\n",
       "        vertical-align: middle;\n",
       "    }\n",
       "\n",
       "    .dataframe tbody tr th {\n",
       "        vertical-align: top;\n",
       "    }\n",
       "\n",
       "    .dataframe thead th {\n",
       "        text-align: right;\n",
       "    }\n",
       "</style>\n",
       "<table border=\"1\" class=\"dataframe\">\n",
       "  <thead>\n",
       "    <tr style=\"text-align: right;\">\n",
       "      <th></th>\n",
       "      <th>IdGasto</th>\n",
       "      <th>IdSucursal</th>\n",
       "      <th>IdTipoGasto</th>\n",
       "      <th>Fecha</th>\n",
       "      <th>Monto</th>\n",
       "    </tr>\n",
       "  </thead>\n",
       "  <tbody>\n",
       "    <tr>\n",
       "      <th>0</th>\n",
       "      <td>1</td>\n",
       "      <td>18</td>\n",
       "      <td>1</td>\n",
       "      <td>2015-01-01</td>\n",
       "      <td>1164.9</td>\n",
       "    </tr>\n",
       "  </tbody>\n",
       "</table>\n",
       "</div>"
      ],
      "text/plain": [
       "   IdGasto  IdSucursal  IdTipoGasto       Fecha   Monto\n",
       "0        1          18            1  2015-01-01  1164.9"
      ]
     },
     "execution_count": 66,
     "metadata": {},
     "output_type": "execute_result"
    }
   ],
   "source": [
    "gasto.head(1)"
   ]
  },
  {
   "cell_type": "code",
   "execution_count": 67,
   "metadata": {},
   "outputs": [
    {
     "name": "stdout",
     "output_type": "stream",
     "text": [
      "El total de valores nulos de la tabla gasto es de 0\n"
     ]
    }
   ],
   "source": [
    "total_nulos = gasto.isnull().sum().sort_values(ascending = False)\n",
    "def nulos(nulo):\n",
    "    nul=0\n",
    "    for i in range(0,len(nulo)-1):\n",
    "     if nulo[i] >= 0:\n",
    "         nul+= nulo[i]\n",
    "    return nul\n",
    "print('El total de valores nulos de la tabla gasto es de', nulos(total_nulos))"
   ]
  },
  {
   "cell_type": "code",
   "execution_count": 68,
   "metadata": {},
   "outputs": [
    {
     "data": {
      "image/png": "[encoded data removed]",
      "text/plain": [
       "<Figure size 432x288 with 1 Axes>"
      ]
     },
     "metadata": {
      "needs_background": "light"
     },
     "output_type": "display_data"
    },
    {
     "name": "stdout",
     "output_type": "stream",
     "text": [
      "El porcentaje de datos correctos en la columna Monto es de: %100.00\n",
      "El porcentaje de datos nulos en la columna Monto es de: %0.00\n",
      "El porcentaje de outliers en la columna Monto es de: %0.00\n",
      "Todos los valores por encima de 2368.7725 son un outlier\n"
     ]
    }
   ],
   "source": [
    "calidaddelosdatos(gasto, 'Monto')"
   ]
  },
  {
   "cell_type": "markdown",
   "metadata": {},
   "source": [
    "## TABLA COMPRA\n",
    "DICCIONARIO\n",
    "| | Columna Normalizada | Columna Original | Tipo de Dato | Descripción |\n",
    "|:-------------------:|---|---|---|---|\n",
    "| 0 | IdCompra | IdCompra | int64 | Clave única que identifica una compra |\n",
    "| 1 | Fecha | Fecha | datetime64 | Fecha registrada de compra |\n",
    "| 2 | Fecha_Año | Fecha_Año | int64 | Año registrado de compra |\n",
    "| 3 | Fecha_Mes | Fecha_Mes | int64 | Mes registrado de compra |\n",
    "| 4 | Fecha_Periodo | Fecha_Periodo | int64 | Periodo registrado de compra  |\n",
    "| 5 | IdProducto | IdProducto | int64 | Clave única que identifica al producto adquirido |\n",
    "| 6 | Cantidad | Cantidad | int64 | Cantidad de producto adquirido en la compra |\n",
    "| 7 | Precio | Precio | float64 | Precio pagado por la compra |\n",
    "| 8 | IdProveedor | IdProveedor | int64 | Clave única que identifica al proveedor |"
   ]
  },
  {
   "cell_type": "code",
   "execution_count": 69,
   "metadata": {},
   "outputs": [
    {
     "name": "stdout",
     "output_type": "stream",
     "text": [
      "La tabla compra tiene (11539, 9) registros y columnas en total\n"
     ]
    }
   ],
   "source": [
    "print('La tabla compra tiene', compra.shape, 'registros y columnas en total')"
   ]
  },
  {
   "cell_type": "code",
   "execution_count": 70,
   "metadata": {},
   "outputs": [
    {
     "data": {
      "text/html": [
       "<div>\n",
       "<style scoped>\n",
       "    .dataframe tbody tr th:only-of-type {\n",
       "        vertical-align: middle;\n",
       "    }\n",
       "\n",
       "    .dataframe tbody tr th {\n",
       "        vertical-align: top;\n",
       "    }\n",
       "\n",
       "    .dataframe thead th {\n",
       "        text-align: right;\n",
       "    }\n",
       "</style>\n",
       "<table border=\"1\" class=\"dataframe\">\n",
       "  <thead>\n",
       "    <tr style=\"text-align: right;\">\n",
       "      <th></th>\n",
       "      <th>IdCompra</th>\n",
       "      <th>Fecha</th>\n",
       "      <th>Fecha_Año</th>\n",
       "      <th>Fecha_Mes</th>\n",
       "      <th>Fecha_Periodo</th>\n",
       "      <th>IdProducto</th>\n",
       "      <th>Cantidad</th>\n",
       "      <th>Precio</th>\n",
       "      <th>IdProveedor</th>\n",
       "    </tr>\n",
       "  </thead>\n",
       "  <tbody>\n",
       "    <tr>\n",
       "      <th>0</th>\n",
       "      <td>1</td>\n",
       "      <td>1/30/2015</td>\n",
       "      <td>2015</td>\n",
       "      <td>1</td>\n",
       "      <td>201501</td>\n",
       "      <td>42832</td>\n",
       "      <td>13</td>\n",
       "      <td>560.51</td>\n",
       "      <td>12</td>\n",
       "    </tr>\n",
       "  </tbody>\n",
       "</table>\n",
       "</div>"
      ],
      "text/plain": [
       "   IdCompra      Fecha  Fecha_Año  Fecha_Mes  Fecha_Periodo  IdProducto  \\\n",
       "0         1  1/30/2015       2015          1         201501       42832   \n",
       "\n",
       "   Cantidad  Precio  IdProveedor  \n",
       "0        13  560.51           12  "
      ]
     },
     "execution_count": 70,
     "metadata": {},
     "output_type": "execute_result"
    }
   ],
   "source": [
    "compra.head(1)"
   ]
  },
  {
   "cell_type": "code",
   "execution_count": 71,
   "metadata": {},
   "outputs": [
    {
     "name": "stdout",
     "output_type": "stream",
     "text": [
      "El total de valores nulos de la tabla compra es de 367\n"
     ]
    }
   ],
   "source": [
    "total_nulos = compra.isnull().sum().sort_values(ascending = False)\n",
    "def nulos(nulo):\n",
    "    nul=0\n",
    "    for i in range(0,len(nulo)-1):\n",
    "     if nulo[i] >= 0:\n",
    "         nul+= nulo[i]\n",
    "    return nul\n",
    "print('El total de valores nulos de la tabla compra es de', nulos(total_nulos))"
   ]
  },
  {
   "cell_type": "code",
   "execution_count": 72,
   "metadata": {},
   "outputs": [
    {
     "data": {
      "text/html": [
       "<div>\n",
       "<style scoped>\n",
       "    .dataframe tbody tr th:only-of-type {\n",
       "        vertical-align: middle;\n",
       "    }\n",
       "\n",
       "    .dataframe tbody tr th {\n",
       "        vertical-align: top;\n",
       "    }\n",
       "\n",
       "    .dataframe thead th {\n",
       "        text-align: right;\n",
       "    }\n",
       "</style>\n",
       "<table border=\"1\" class=\"dataframe\">\n",
       "  <thead>\n",
       "    <tr style=\"text-align: right;\">\n",
       "      <th></th>\n",
       "      <th>Columna</th>\n",
       "      <th>Val_nulos</th>\n",
       "      <th>PorcentVacio</th>\n",
       "    </tr>\n",
       "  </thead>\n",
       "  <tbody>\n",
       "    <tr>\n",
       "      <th>0</th>\n",
       "      <td>Precio</td>\n",
       "      <td>367</td>\n",
       "      <td>3.180518</td>\n",
       "    </tr>\n",
       "  </tbody>\n",
       "</table>\n",
       "</div>"
      ],
      "text/plain": [
       "  Columna  Val_nulos  PorcentVacio\n",
       "0  Precio        367      3.180518"
      ]
     },
     "execution_count": 72,
     "metadata": {},
     "output_type": "execute_result"
    },
    {
     "data": {
      "image/png": "[encoded data removed]",
      "text/plain": [
       "<Figure size 720x360 with 1 Axes>"
      ]
     },
     "metadata": {
      "needs_background": "light"
     },
     "output_type": "display_data"
    }
   ],
   "source": [
    "deteccion_nulos(compra)"
   ]
  },
  {
   "cell_type": "code",
   "execution_count": 73,
   "metadata": {},
   "outputs": [
    {
     "data": {
      "image/png": "[encoded data removed]",
      "text/plain": [
       "<Figure size 432x288 with 1 Axes>"
      ]
     },
     "metadata": {
      "needs_background": "light"
     },
     "output_type": "display_data"
    },
    {
     "name": "stdout",
     "output_type": "stream",
     "text": [
      "El porcentaje de datos correctos en la columna Precio es de: %91.63\n",
      "El porcentaje de datos nulos en la columna Precio es de: %3.18\n",
      "El porcentaje de outliers en la columna Precio es de: %5.19\n",
      "Todos los valores por encima de 2690.5612499999997 son un outlier\n"
     ]
    }
   ],
   "source": [
    "calidaddelosdatos(compra,'Precio')"
   ]
  },
  {
   "cell_type": "code",
   "execution_count": 74,
   "metadata": {},
   "outputs": [
    {
     "data": {
      "image/png": "[encoded data removed]",
      "text/plain": [
       "<Figure size 432x288 with 1 Axes>"
      ]
     },
     "metadata": {
      "needs_background": "light"
     },
     "output_type": "display_data"
    },
    {
     "name": "stdout",
     "output_type": "stream",
     "text": [
      "El porcentaje de datos correctos en la columna Cantidad es de: %96.48\n",
      "El porcentaje de datos nulos en la columna Cantidad es de: %0.00\n",
      "El porcentaje de outliers en la columna Cantidad es de: %3.52\n",
      "Todos los valores por encima de 24.0 son un outlier\n"
     ]
    }
   ],
   "source": [
    "calidaddelosdatos(compra,'Cantidad')"
   ]
  },
  {
   "cell_type": "markdown",
   "metadata": {},
   "source": [
    "Luego de este primer analisis se puede ver que casi todas las tablas presentan faltantes menos la tabla sucursal y gasto, ademas, se puede ver que en las tablas venta y compra, los precios y las cantidades tienen outliers por lo tanto a la hora de querer realizar balances al final de un mes, trimestre o año el resultado va a ser erroneo.\n",
    "Mas adelante se hace un analisis mas exahutivo de las tablas y se encuentra que ademas algunas colunmas como por ejemplo localidad, provincia, latitud, longitud, entre otras, se encuentran incompletas o con los datos puestos de manera incorrecta por lo tanto las conexiones que se quieran hacer mediante esas columnas no van a ser correctas. Para tratar de acomodar estas cosas con el fin de poder a lo largo del tiempo realizar analisis de buena calidad a continuacion en otro archivo se normalizan los datos."
   ]
  },
  {
   "cell_type": "markdown",
   "metadata": {},
   "source": [
    "## **NUEVA SUCURSAL Y KPIs**"
   ]
  },
  {
   "cell_type": "markdown",
   "metadata": {},
   "source": [
    "Despues de hacer un analisis de los datos se puede llegar a la conclusion de que la mayor cantidad de compras la realizan clientes que viven en la provincia de Buenos Aires y en la provincia de Cordoba. Luego de obtener esa informacion podemos decir que en la provincia de Cordoba es donde hay menos sucursales por lo tanto la recomendacion seria abrir una nueva sucursal ahi."
   ]
  },
  {
   "cell_type": "markdown",
   "metadata": {},
   "source": [
    "![](AnalisisEnPowerBI-1.png)"
   ]
  },
  {
   "cell_type": "markdown",
   "metadata": {},
   "source": [
    "El grafico \"Top 10 cantidad vendida por sucursal\" muestra que la sucursal de flores es la que mas vende y la segunda es la de cabildo pero si se mira bien la sucursal de cordoba centro vende mas en cuanto a monto no ha cantidad."
   ]
  },
  {
   "cell_type": "markdown",
   "metadata": {},
   "source": [
    "![](AnalisisEnPowerBI-2.png)"
   ]
  },
  {
   "cell_type": "markdown",
   "metadata": {},
   "source": [
    "Recomendacion de kpis de venta luego del analisis en Power BI: \n",
    "\n",
    "Las propuestas de KPIs serian:\n",
    "\n",
    "Que se realice la venta total por año por sucursal con el fin de saber si es necesario cerrar alguna sucursal que no este funcionando, ademas a esto se le podria hacer una relacion con clientes para saber donde estan mas concentrados y asi en base a eso saber donde se podria abrir una nueva sucursal de ser necesario.\n",
    "Ademas se podria hacer un analisis de cantidad de ventas relacionado con localidad para saber en que localidad se esta teniendo una mayor venta de productos.\n",
    "Si se agregan datos de canales de ventas podria analizarse en hecho de realizar mas facilidades o descuentos para la venta online."
   ]
  }
 ],
 "metadata": {
  "kernelspec": {
   "display_name": "Python 3.10.2 64-bit",
   "language": "python",
   "name": "python3"
  },
  "language_info": {
   "codemirror_mode": {
    "name": "ipython",
    "version": 3
   },
   "file_extension": ".py",
   "mimetype": "text/x-python",
   "name": "python",
   "nbconvert_exporter": "python",
   "pygments_lexer": "ipython3",
   "version": "3.10.2"
  },
  "orig_nbformat": 4,
  "vscode": {
   "interpreter": {
    "hash": "b553e1a3709e32c1fb0467a3664802744a4b07a98d83f2e16b766e49821e4ae3"
   }
  }
 },
 "nbformat": 4,
 "nbformat_minor": 2
}
